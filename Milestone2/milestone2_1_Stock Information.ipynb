{
 "cells": [
  {
   "cell_type": "markdown",
   "metadata": {},
   "source": [
    "# Milestone 2.1 Stock Information"
   ]
  },
  {
   "cell_type": "markdown",
   "metadata": {},
   "source": [
    "### Import Library"
   ]
  },
  {
   "cell_type": "code",
   "execution_count": 3,
   "metadata": {},
   "outputs": [],
   "source": [
    "import yfinance as yf\n",
    "from yahoofinancials import YahooFinancials"
   ]
  },
  {
   "cell_type": "markdown",
   "metadata": {},
   "source": [
    "### 1.0 Get Current Price"
   ]
  },
  {
   "cell_type": "code",
   "execution_count": 5,
   "metadata": {},
   "outputs": [
    {
     "name": "stdout",
     "output_type": "stream",
     "text": [
      "Current Price is 153.12\n"
     ]
    }
   ],
   "source": [
    "ticker = 'AAPL'\n",
    "yahoo_financials = YahooFinancials(ticker)\n",
    "gold=yahoo_financials.get_current_price()\n",
    "msg = \"Current Price is {:.2f}\".format(gold)\n",
    "print(msg)"
   ]
  },
  {
   "cell_type": "markdown",
   "metadata": {},
   "source": [
    "### 2.0 Price Change"
   ]
  },
  {
   "cell_type": "code",
   "execution_count": 6,
   "metadata": {},
   "outputs": [
    {
     "name": "stdout",
     "output_type": "stream",
     "text": [
      "Current Price Change is 4.52\n"
     ]
    }
   ],
   "source": [
    "gold = round(yahoo_financials.get_current_change(),2)\n",
    "msg = \"Current Price Change is {:.2f}\".format(gold)\n",
    "print(msg)"
   ]
  },
  {
   "cell_type": "markdown",
   "metadata": {},
   "source": [
    "### 3.0 Price Change Percentage"
   ]
  },
  {
   "cell_type": "markdown",
   "metadata": {},
   "source": [
    "gold = yahoo_financials.get_current_percent_change()*100\n",
    "msg = \"Current Price Change is {:.2f}%\".format(gold)\n",
    "print(msg)"
   ]
  },
  {
   "cell_type": "markdown",
   "metadata": {},
   "source": [
    "### 4.0 Current Volume"
   ]
  },
  {
   "cell_type": "code",
   "execution_count": 12,
   "metadata": {},
   "outputs": [
    {
     "name": "stdout",
     "output_type": "stream",
     "text": [
      "Current Volume is 90957k\n"
     ]
    }
   ],
   "source": [
    "gold = yahoo_financials.get_current_volume()/1000\n",
    "msg = \"Current Volume is {:.0f}k\".format(gold)\n",
    "print(msg)"
   ]
  },
  {
   "cell_type": "markdown",
   "metadata": {},
   "source": [
    "### 5.0 Previous Close Price"
   ]
  },
  {
   "cell_type": "code",
   "execution_count": 13,
   "metadata": {},
   "outputs": [
    {
     "name": "stdout",
     "output_type": "stream",
     "text": [
      "Previous Close Price is 148.60\n"
     ]
    }
   ],
   "source": [
    "gold = yahoo_financials.get_prev_close_price()\n",
    "msg = \"Previous Close Price is {:.2f}\".format(gold)\n",
    "print(msg)"
   ]
  },
  {
   "cell_type": "markdown",
   "metadata": {},
   "source": [
    "### 6.0 Open Price"
   ]
  },
  {
   "cell_type": "code",
   "execution_count": 14,
   "metadata": {},
   "outputs": [
    {
     "name": "stdout",
     "output_type": "stream",
     "text": [
      "Open Price is 149.00\n"
     ]
    }
   ],
   "source": [
    "gold = yahoo_financials.get_open_price()\n",
    "msg = \"Open Price is {:.2f}\".format(gold)\n",
    "print(msg)"
   ]
  },
  {
   "cell_type": "markdown",
   "metadata": {},
   "source": [
    "### 7.0 Get 10 days Average Volume"
   ]
  },
  {
   "cell_type": "code",
   "execution_count": 16,
   "metadata": {},
   "outputs": [
    {
     "name": "stdout",
     "output_type": "stream",
     "text": [
      "Open Price is 54410k\n"
     ]
    }
   ],
   "source": [
    "gold = yahoo_financials.get_ten_day_avg_daily_volume()/1000\n",
    "msg = \"10 days Average Volume is {:.0f}k\".format(gold)\n",
    "print(msg)"
   ]
  },
  {
   "cell_type": "markdown",
   "metadata": {},
   "source": [
    "### 8.0 Get 3 Months Average Daily Volume"
   ]
  },
  {
   "cell_type": "code",
   "execution_count": 18,
   "metadata": {},
   "outputs": [
    {
     "name": "stdout",
     "output_type": "stream",
     "text": [
      "Open Price is 76332k\n"
     ]
    }
   ],
   "source": [
    "gold = yahoo_financials.get_three_month_avg_daily_volume()/1000\n",
    "msg = \"3 Month Average Daily Volume is {:.0f}k\".format(gold)\n",
    "print(msg)"
   ]
  },
  {
   "cell_type": "markdown",
   "metadata": {},
   "source": [
    "### 9.0 Get Market Cap"
   ]
  },
  {
   "cell_type": "code",
   "execution_count": 21,
   "metadata": {},
   "outputs": [
    {
     "name": "stdout",
     "output_type": "stream",
     "text": [
      "Open Price is 2531104129.02\n"
     ]
    }
   ],
   "source": [
    "gold = yahoo_financials.get_market_cap()/1000\n",
    "msg = \"Market Cap is {:.2f}\".format(gold)\n",
    "print(msg)"
   ]
  },
  {
   "cell_type": "markdown",
   "metadata": {},
   "source": [
    "### 10.0 Get Daily Low"
   ]
  },
  {
   "cell_type": "code",
   "execution_count": 22,
   "metadata": {},
   "outputs": [
    {
     "name": "stdout",
     "output_type": "stream",
     "text": [
      "Open Price is 148.61\n"
     ]
    }
   ],
   "source": [
    "gold = yahoo_financials.get_daily_low()\n",
    "msg = \"Daily Low is {:.2f}\".format(gold)\n",
    "print(msg)"
   ]
  },
  {
   "cell_type": "markdown",
   "metadata": {},
   "source": [
    "### 11.0 Daily High"
   ]
  },
  {
   "cell_type": "code",
   "execution_count": 26,
   "metadata": {},
   "outputs": [
    {
     "name": "stdout",
     "output_type": "stream",
     "text": [
      "Daily High is 153.49\n"
     ]
    }
   ],
   "source": [
    "gold = yahoo_financials.get_daily_high()\n",
    "msg = \"Daily High is {:.2f}\".format(gold)\n",
    "print(msg)"
   ]
  },
  {
   "cell_type": "markdown",
   "metadata": {},
   "source": [
    "### 12.0 Yearly High"
   ]
  },
  {
   "cell_type": "code",
   "execution_count": 27,
   "metadata": {},
   "outputs": [
    {
     "name": "stdout",
     "output_type": "stream",
     "text": [
      "Yearly High is 153.49\n"
     ]
    }
   ],
   "source": [
    "gold = yahoo_financials.get_yearly_high()\n",
    "msg = \"Yearly High is {:.2f}\".format(gold)\n",
    "print(msg)"
   ]
  },
  {
   "cell_type": "markdown",
   "metadata": {},
   "source": [
    "### 13.0 Yearly Low"
   ]
  },
  {
   "cell_type": "code",
   "execution_count": 28,
   "metadata": {},
   "outputs": [
    {
     "name": "stdout",
     "output_type": "stream",
     "text": [
      "Yearly Low is 103.10\n"
     ]
    }
   ],
   "source": [
    "gold = yahoo_financials.get_yearly_low()\n",
    "msg = \"Yearly Low is {:.2f}\".format(gold)\n",
    "print(msg)"
   ]
  },
  {
   "cell_type": "markdown",
   "metadata": {},
   "source": [
    "### 14.0 50 Days Moving Average"
   ]
  },
  {
   "cell_type": "code",
   "execution_count": 30,
   "metadata": {},
   "outputs": [
    {
     "name": "stdout",
     "output_type": "stream",
     "text": [
      "50 Days Moving Average is 147.16\n"
     ]
    }
   ],
   "source": [
    "gold = yahoo_financials.get_50day_moving_avg()\n",
    "msg = \"50 Days Moving Average is {:.2f}\".format(gold)\n",
    "print(msg)"
   ]
  },
  {
   "cell_type": "markdown",
   "metadata": {},
   "source": [
    "### 15.0 200 Days Moving Average"
   ]
  },
  {
   "cell_type": "code",
   "execution_count": 31,
   "metadata": {},
   "outputs": [
    {
     "name": "stdout",
     "output_type": "stream",
     "text": [
      "200 Days Moving Average is 133.19\n"
     ]
    }
   ],
   "source": [
    "gold = yahoo_financials.get_200day_moving_avg()\n",
    "msg = \"200 Days Moving Average is {:.2f}\".format(gold)\n",
    "print(msg)"
   ]
  },
  {
   "cell_type": "markdown",
   "metadata": {},
   "source": [
    "### 16.0 PE Ratio"
   ]
  },
  {
   "cell_type": "code",
   "execution_count": 32,
   "metadata": {},
   "outputs": [
    {
     "name": "stdout",
     "output_type": "stream",
     "text": [
      "PE Ratio is 29.98\n"
     ]
    }
   ],
   "source": [
    "gold = yahoo_financials.get_pe_ratio()\n",
    "msg = \"PE Ratio is {:.2f}\".format(gold)\n",
    "print(msg)"
   ]
  },
  {
   "cell_type": "markdown",
   "metadata": {},
   "source": [
    "### 17.0 Get Price Data"
   ]
  },
  {
   "cell_type": "code",
   "execution_count": 4,
   "metadata": {},
   "outputs": [
    {
     "name": "stdout",
     "output_type": "stream",
     "text": [
      "[*********************100%***********************]  1 of 1 completed\n"
     ]
    },
    {
     "data": {
      "text/html": [
       "<div>\n",
       "<style scoped>\n",
       "    .dataframe tbody tr th:only-of-type {\n",
       "        vertical-align: middle;\n",
       "    }\n",
       "\n",
       "    .dataframe tbody tr th {\n",
       "        vertical-align: top;\n",
       "    }\n",
       "\n",
       "    .dataframe thead th {\n",
       "        text-align: right;\n",
       "    }\n",
       "</style>\n",
       "<table border=\"1\" class=\"dataframe\">\n",
       "  <thead>\n",
       "    <tr style=\"text-align: right;\">\n",
       "      <th></th>\n",
       "      <th>Open</th>\n",
       "      <th>High</th>\n",
       "      <th>Low</th>\n",
       "      <th>Close</th>\n",
       "      <th>Adj Close</th>\n",
       "      <th>Volume</th>\n",
       "    </tr>\n",
       "    <tr>\n",
       "      <th>Date</th>\n",
       "      <th></th>\n",
       "      <th></th>\n",
       "      <th></th>\n",
       "      <th></th>\n",
       "      <th></th>\n",
       "      <th></th>\n",
       "    </tr>\n",
       "  </thead>\n",
       "  <tbody>\n",
       "    <tr>\n",
       "      <th>1980-12-12</th>\n",
       "      <td>0.128348</td>\n",
       "      <td>0.128906</td>\n",
       "      <td>0.128348</td>\n",
       "      <td>0.128348</td>\n",
       "      <td>0.100600</td>\n",
       "      <td>469033600</td>\n",
       "    </tr>\n",
       "    <tr>\n",
       "      <th>1980-12-15</th>\n",
       "      <td>0.122210</td>\n",
       "      <td>0.122210</td>\n",
       "      <td>0.121652</td>\n",
       "      <td>0.121652</td>\n",
       "      <td>0.095352</td>\n",
       "      <td>175884800</td>\n",
       "    </tr>\n",
       "    <tr>\n",
       "      <th>1980-12-16</th>\n",
       "      <td>0.113281</td>\n",
       "      <td>0.113281</td>\n",
       "      <td>0.112723</td>\n",
       "      <td>0.112723</td>\n",
       "      <td>0.088353</td>\n",
       "      <td>105728000</td>\n",
       "    </tr>\n",
       "    <tr>\n",
       "      <th>1980-12-17</th>\n",
       "      <td>0.115513</td>\n",
       "      <td>0.116071</td>\n",
       "      <td>0.115513</td>\n",
       "      <td>0.115513</td>\n",
       "      <td>0.090540</td>\n",
       "      <td>86441600</td>\n",
       "    </tr>\n",
       "    <tr>\n",
       "      <th>1980-12-18</th>\n",
       "      <td>0.118862</td>\n",
       "      <td>0.119420</td>\n",
       "      <td>0.118862</td>\n",
       "      <td>0.118862</td>\n",
       "      <td>0.093165</td>\n",
       "      <td>73449600</td>\n",
       "    </tr>\n",
       "    <tr>\n",
       "      <th>...</th>\n",
       "      <td>...</td>\n",
       "      <td>...</td>\n",
       "      <td>...</td>\n",
       "      <td>...</td>\n",
       "      <td>...</td>\n",
       "      <td>...</td>\n",
       "    </tr>\n",
       "    <tr>\n",
       "      <th>2021-08-24</th>\n",
       "      <td>149.449997</td>\n",
       "      <td>150.860001</td>\n",
       "      <td>149.149994</td>\n",
       "      <td>149.619995</td>\n",
       "      <td>149.619995</td>\n",
       "      <td>48606400</td>\n",
       "    </tr>\n",
       "    <tr>\n",
       "      <th>2021-08-25</th>\n",
       "      <td>149.809998</td>\n",
       "      <td>150.320007</td>\n",
       "      <td>147.800003</td>\n",
       "      <td>148.360001</td>\n",
       "      <td>148.360001</td>\n",
       "      <td>58991300</td>\n",
       "    </tr>\n",
       "    <tr>\n",
       "      <th>2021-08-26</th>\n",
       "      <td>148.350006</td>\n",
       "      <td>149.119995</td>\n",
       "      <td>147.509995</td>\n",
       "      <td>147.539993</td>\n",
       "      <td>147.539993</td>\n",
       "      <td>48597200</td>\n",
       "    </tr>\n",
       "    <tr>\n",
       "      <th>2021-08-27</th>\n",
       "      <td>147.479996</td>\n",
       "      <td>148.750000</td>\n",
       "      <td>146.830002</td>\n",
       "      <td>148.600006</td>\n",
       "      <td>148.600006</td>\n",
       "      <td>55721500</td>\n",
       "    </tr>\n",
       "    <tr>\n",
       "      <th>2021-08-30</th>\n",
       "      <td>149.000000</td>\n",
       "      <td>153.490005</td>\n",
       "      <td>148.610001</td>\n",
       "      <td>153.119995</td>\n",
       "      <td>153.119995</td>\n",
       "      <td>90689700</td>\n",
       "    </tr>\n",
       "  </tbody>\n",
       "</table>\n",
       "<p>10266 rows × 6 columns</p>\n",
       "</div>"
      ],
      "text/plain": [
       "                  Open        High         Low       Close   Adj Close  \\\n",
       "Date                                                                     \n",
       "1980-12-12    0.128348    0.128906    0.128348    0.128348    0.100600   \n",
       "1980-12-15    0.122210    0.122210    0.121652    0.121652    0.095352   \n",
       "1980-12-16    0.113281    0.113281    0.112723    0.112723    0.088353   \n",
       "1980-12-17    0.115513    0.116071    0.115513    0.115513    0.090540   \n",
       "1980-12-18    0.118862    0.119420    0.118862    0.118862    0.093165   \n",
       "...                ...         ...         ...         ...         ...   \n",
       "2021-08-24  149.449997  150.860001  149.149994  149.619995  149.619995   \n",
       "2021-08-25  149.809998  150.320007  147.800003  148.360001  148.360001   \n",
       "2021-08-26  148.350006  149.119995  147.509995  147.539993  147.539993   \n",
       "2021-08-27  147.479996  148.750000  146.830002  148.600006  148.600006   \n",
       "2021-08-30  149.000000  153.490005  148.610001  153.119995  153.119995   \n",
       "\n",
       "               Volume  \n",
       "Date                   \n",
       "1980-12-12  469033600  \n",
       "1980-12-15  175884800  \n",
       "1980-12-16  105728000  \n",
       "1980-12-17   86441600  \n",
       "1980-12-18   73449600  \n",
       "...               ...  \n",
       "2021-08-24   48606400  \n",
       "2021-08-25   58991300  \n",
       "2021-08-26   48597200  \n",
       "2021-08-27   55721500  \n",
       "2021-08-30   90689700  \n",
       "\n",
       "[10266 rows x 6 columns]"
      ]
     },
     "execution_count": 4,
     "metadata": {},
     "output_type": "execute_result"
    }
   ],
   "source": [
    "# Get the data for the stock AAPL\n",
    "data = yf.download('AAPL')\n",
    "data"
   ]
  },
  {
   "cell_type": "markdown",
   "metadata": {},
   "source": [
    "### 18.0 RSI - 14 days"
   ]
  },
  {
   "cell_type": "code",
   "execution_count": 34,
   "metadata": {},
   "outputs": [
    {
     "name": "stdout",
     "output_type": "stream",
     "text": [
      "RSI 14 Days is 65.70\n"
     ]
    }
   ],
   "source": [
    "from ta.utils import dropna\n",
    "from ta.momentum import RSIIndicator\n",
    "\n",
    "# Clean NaN values\n",
    "df = dropna(data)\n",
    "\n",
    "# Initialize Bollinger Bands Indicator\n",
    "indicator_rsi = RSIIndicator(close=df[\"Close\"],  window= 14, fillna = True)\n",
    "msg = \"RSI 14 Days is {:.2f}\".format(indicator_rsi.rsi()[-1])\n",
    "print(msg)"
   ]
  },
  {
   "cell_type": "markdown",
   "metadata": {},
   "source": [
    "### 19.0 RSI - 28 days"
   ]
  },
  {
   "cell_type": "code",
   "execution_count": 35,
   "metadata": {},
   "outputs": [
    {
     "name": "stdout",
     "output_type": "stream",
     "text": [
      "RSI 28 Days is 62.77\n"
     ]
    }
   ],
   "source": [
    "# Initialize Bollinger Bands Indicator\n",
    "indicator_rsi = RSIIndicator(close=df[\"Close\"],  window= 28, fillna = True)\n",
    "msg = \"RSI 28 Days is {:.2f}\".format(indicator_rsi.rsi()[-1])\n",
    "print(msg)"
   ]
  },
  {
   "cell_type": "markdown",
   "metadata": {},
   "source": [
    "### 20.0 Percentage Price Oscillator"
   ]
  },
  {
   "cell_type": "code",
   "execution_count": 40,
   "metadata": {},
   "outputs": [
    {
     "name": "stdout",
     "output_type": "stream",
     "text": [
      "Percentage Price Oscillator is 1.06\n"
     ]
    }
   ],
   "source": [
    "from ta.momentum import PercentagePriceOscillator\n",
    "\n",
    "indicator_ppo = PercentagePriceOscillator(close=df[\"Close\"],  window_slow=26,window_fast=12,window_sign=9,fillna = True)\n",
    "msg = \"Percentage Price Oscillator is {:.2f}\".format(indicator_ppo.ppo()[-1])\n",
    "print(msg)"
   ]
  },
  {
   "cell_type": "markdown",
   "metadata": {},
   "source": [
    "### 21.0 Percentage Volume Oscillator"
   ]
  },
  {
   "cell_type": "code",
   "execution_count": 44,
   "metadata": {},
   "outputs": [
    {
     "name": "stdout",
     "output_type": "stream",
     "text": [
      "Percentage Volume Oscillator is -4.41\n"
     ]
    }
   ],
   "source": [
    "from ta.momentum import PercentageVolumeOscillator\n",
    "\n",
    "indicator_pvo = PercentageVolumeOscillator(volume=df[\"Volume\"],  window_slow=26,window_fast=12,window_sign=9,fillna = True)\n",
    "msg = \"Percentage Volume Oscillator is {:.2f}\".format(indicator_pvo.pvo()[-1])\n",
    "print(msg)"
   ]
  },
  {
   "cell_type": "markdown",
   "metadata": {},
   "source": [
    "### 22.0 Rate of Change"
   ]
  },
  {
   "cell_type": "code",
   "execution_count": 47,
   "metadata": {},
   "outputs": [
    {
     "name": "stdout",
     "output_type": "stream",
     "text": [
      "Rate of Change is 2.84\n"
     ]
    }
   ],
   "source": [
    "from ta.momentum import ROCIndicator\n",
    "\n",
    "indicator_roc = ROCIndicator(close=df[\"Close\"],  window=12,fillna = True)\n",
    "msg = \"Rate of Change is {:.2f}\".format(indicator_roc.roc()[-1])\n",
    "print(msg)"
   ]
  },
  {
   "cell_type": "markdown",
   "metadata": {},
   "source": [
    "### 23.0 Stochastic Oscillator"
   ]
  },
  {
   "cell_type": "code",
   "execution_count": 51,
   "metadata": {},
   "outputs": [
    {
     "name": "stdout",
     "output_type": "stream",
     "text": [
      "Stochastic Oscvillator is 95.88\n"
     ]
    }
   ],
   "source": [
    "from ta.momentum import StochasticOscillator\n",
    "\n",
    "indicator_stoch = StochasticOscillator(close=df[\"Close\"],  high=df[\"High\"],low=df[\"Low\"],window=14,smooth_window=3,fillna = True)\n",
    "msg = \"Stochastic Oscvillator is {:.2f}\".format(indicator_stoch.stoch()[-1])\n",
    "print(msg)"
   ]
  },
  {
   "cell_type": "markdown",
   "metadata": {},
   "source": [
    "### 24.0 WilliamsRIndicator"
   ]
  },
  {
   "cell_type": "code",
   "execution_count": 54,
   "metadata": {},
   "outputs": [
    {
     "name": "stdout",
     "output_type": "stream",
     "text": [
      "Williams R is -5.56\n"
     ]
    }
   ],
   "source": [
    "from ta.momentum import WilliamsRIndicator\n",
    "\n",
    "indicator_william = WilliamsRIndicator(close=df[\"Close\"],  high=df[\"High\"],low=df[\"Low\"],lbp=3,fillna = True)\n",
    "msg = \"Williams R is {:.2f}\".format(indicator_william.williams_r()[-1])\n",
    "print(msg)"
   ]
  },
  {
   "cell_type": "markdown",
   "metadata": {},
   "source": [
    "### 25.0 Accumulation/Distribution Index (ADI)"
   ]
  },
  {
   "cell_type": "code",
   "execution_count": 61,
   "metadata": {},
   "outputs": [
    {
     "name": "stdout",
     "output_type": "stream",
     "text": [
      "ADI is 43346815118.21\n"
     ]
    }
   ],
   "source": [
    "from ta.volume import AccDistIndexIndicator\n",
    "\n",
    "indicator_ADI = AccDistIndexIndicator(close=df[\"Close\"],  high=df[\"High\"],low=df[\"Low\"],volume=df[\"Volume\"],fillna = True)\n",
    "msg = \"ADI is {:.2f}\".format(indicator_ADI.acc_dist_index()[-1])\n",
    "print(msg)"
   ]
  },
  {
   "cell_type": "markdown",
   "metadata": {},
   "source": [
    "### 26.0 Chaikin Money Flow (CMF)"
   ]
  },
  {
   "cell_type": "code",
   "execution_count": 62,
   "metadata": {},
   "outputs": [
    {
     "name": "stdout",
     "output_type": "stream",
     "text": [
      "ADI is 0.12\n"
     ]
    }
   ],
   "source": [
    "from ta.volume import ChaikinMoneyFlowIndicator\n",
    "\n",
    "indicator_Chaikin = ChaikinMoneyFlowIndicator(close=df[\"Close\"],  high=df[\"High\"],low=df[\"Low\"],volume=df[\"Volume\"],fillna = True)\n",
    "msg = \"ADI is {:.2f}\".format(indicator_Chaikin.chaikin_money_flow()[-1])\n",
    "print(msg)"
   ]
  },
  {
   "cell_type": "markdown",
   "metadata": {},
   "source": [
    "### 27.0 Negative Volume Index (NVI)"
   ]
  },
  {
   "cell_type": "code",
   "execution_count": 64,
   "metadata": {},
   "outputs": [
    {
     "name": "stdout",
     "output_type": "stream",
     "text": [
      "Negative Volume Index is 1241.92\n"
     ]
    }
   ],
   "source": [
    "from ta.volume import NegativeVolumeIndexIndicator\n",
    "\n",
    "indicator_negative_volume = NegativeVolumeIndexIndicator(close=df[\"Close\"],volume=df[\"Volume\"],fillna = True)\n",
    "msg = \"Negative Volume Index is {:.2f}\".format(indicator_negative_volume.negative_volume_index()[-1])\n",
    "print(msg)"
   ]
  },
  {
   "cell_type": "markdown",
   "metadata": {},
   "source": [
    "### 28.0 On-balance volume (OBV)"
   ]
  },
  {
   "cell_type": "code",
   "execution_count": 70,
   "metadata": {},
   "outputs": [
    {
     "name": "stdout",
     "output_type": "stream",
     "text": [
      "OnBalance Volume is 223271045900.00\n"
     ]
    }
   ],
   "source": [
    "from ta.volume import OnBalanceVolumeIndicator\n",
    "\n",
    "indicator_OnBalance_volume = OnBalanceVolumeIndicator(close=df[\"Close\"],volume=df[\"Volume\"],fillna = True)\n",
    "msg = \"OnBalance Volume is {:.2f}\".format(indicator_OnBalance_volume.on_balance_volume()[-1])\n",
    "print(msg)"
   ]
  },
  {
   "cell_type": "markdown",
   "metadata": {},
   "source": [
    "### 29.0 Volume-Price Trend Indicator"
   ]
  },
  {
   "cell_type": "code",
   "execution_count": 77,
   "metadata": {},
   "outputs": [
    {
     "name": "stdout",
     "output_type": "stream",
     "text": [
      "Volume Price Trend is 3158857.96\n"
     ]
    }
   ],
   "source": [
    "from ta.volume import VolumePriceTrendIndicator\n",
    "\n",
    "indicator_VolumePrice_Trend = VolumePriceTrendIndicator(close=df[\"Close\"],volume=df[\"Volume\"],fillna = True)\n",
    "msg = \"Volume Price Trend is {:.2f}\".format(indicator_VolumePrice_Trend.volume_price_trend()[-1])\n",
    "print(msg)"
   ]
  },
  {
   "cell_type": "markdown",
   "metadata": {},
   "source": [
    "### 30.0 Volume Weighted Average Price"
   ]
  },
  {
   "cell_type": "code",
   "execution_count": 78,
   "metadata": {},
   "outputs": [
    {
     "name": "stdout",
     "output_type": "stream",
     "text": [
      "Volume Weighted Average Price is 148.74\n"
     ]
    }
   ],
   "source": [
    "from ta.volume import VolumeWeightedAveragePrice\n",
    "\n",
    "indicator_Volume_Weighted_Price = VolumeWeightedAveragePrice(close=df[\"Close\"],high=df[\"High\"],low=df[\"Low\"],volume=df[\"Volume\"],window=14,fillna = True)\n",
    "msg = \"Volume Weighted Average Price is {:.2f}\".format(indicator_Volume_Weighted_Price.volume_weighted_average_price()[-1])\n",
    "print(msg)"
   ]
  }
 ],
 "metadata": {
  "kernelspec": {
   "display_name": "Python 3",
   "language": "python",
   "name": "python3"
  },
  "language_info": {
   "codemirror_mode": {
    "name": "ipython",
    "version": 3
   },
   "file_extension": ".py",
   "mimetype": "text/x-python",
   "name": "python",
   "nbconvert_exporter": "python",
   "pygments_lexer": "ipython3",
   "version": "3.8.11"
  }
 },
 "nbformat": 4,
 "nbformat_minor": 4
}
