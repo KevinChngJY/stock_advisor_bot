{
 "cells": [
  {
   "cell_type": "markdown",
   "metadata": {},
   "source": [
    "# Optimize Strategy Parameters with Ginetic Algorithm\n",
    "Reference:<br>\n",
    "(1) https://medium.com/swlh/how-to-optimize-your-strategy-parameters-with-genetic-algorithms-23671d7b446c<br>\n",
    "(2) https://medium.com/analytics-vidhya/stock-price-prediction-using-genetic-algorithms-65c64b002d9"
   ]
  },
  {
   "cell_type": "markdown",
   "metadata": {},
   "source": [
    "In this script, it demonstrates 3 ways to perform GA to figure out the optimized RSI (Lower Threshold and Upper Thrshold) for trading strategies.\n",
    "\n",
    "(1) Method 1: It illustrates the theory behind the GA and it builds the GA algorithm from scratch.<br>\n",
    "(2) Method 2: It uses package \"geneticalgorithm 1.0.2\"<br>\n",
    "(3) Method 3: It uses package \"TAGenAlgo\"<br>\n",
    "\n",
    "In the implementation, we will use Method3."
   ]
  },
  {
   "cell_type": "markdown",
   "metadata": {},
   "source": [
    "### Import Package"
   ]
  },
  {
   "cell_type": "code",
   "execution_count": 1,
   "metadata": {},
   "outputs": [],
   "source": [
    "import pandas as pd\n",
    "from pandas import DataFrame\n",
    "import numpy as np\n",
    "import tagenalgo as tg\n",
    "from tagenalgo import TAGenAlgo\n",
    "from sklearn.model_selection import train_test_split"
   ]
  },
  {
   "cell_type": "markdown",
   "metadata": {},
   "source": [
    "## Method 1: Build GA from Scratch"
   ]
  },
  {
   "cell_type": "markdown",
   "metadata": {},
   "source": [
    "### Step 1 : Initialization"
   ]
  },
  {
   "cell_type": "code",
   "execution_count": 2,
   "metadata": {},
   "outputs": [
    {
     "name": "stdout",
     "output_type": "stream",
     "text": [
      "Population:\n",
      "[[2, 93, 12], [2, 46, 11], [13, 62, 16], [92, 97, 24], [8, 74, 29], [43, 93, 9], [18, 36, 27], [62, 100, 9], [88, 98, 29], [16, 77, 21]]\n"
     ]
    }
   ],
   "source": [
    "import random\n",
    "import operator\n",
    "\n",
    "pop = []\n",
    "for i in range(10):\n",
    "    pop_val=[]\n",
    "    for j in range(3):\n",
    "        if j==0:\n",
    "            param_ring = random.randint(0,100)\n",
    "        elif j==1:\n",
    "            param_ring = random.randint(param_ring,100)\n",
    "        else:\n",
    "            param_ring = random.randint(7,30)\n",
    "        pop_val.append(param_ring)\n",
    "    pop.append(pop_val)\n",
    "print(\"Population:\")\n",
    "print(pop)"
   ]
  },
  {
   "cell_type": "markdown",
   "metadata": {},
   "source": [
    "### Step 2: Calculate of fitness value"
   ]
  },
  {
   "cell_type": "code",
   "execution_count": 3,
   "metadata": {},
   "outputs": [],
   "source": [
    "def fit_evaluate(X):\n",
    "    cummulative = 0\n",
    "    inventory = []\n",
    "    # Initialize RSI Indicator\n",
    "    df_eth = pd.read_csv('cryptos_eth.csv',\n",
    "                         usecols=[\"timestamp_val\", \"high_value\", \"low_value\", \"close_value\"])\n",
    "    indicator_rsi = RSIIndicator(close=df_eth['close_value'],  window= X[2], fillna = True)\n",
    "    X_train=np.array(df_eth['close_value'].tolist())\n",
    "    #X_train=X_train[X[2]:]\n",
    "    #indicator_rsi=indicator_rsi.rsi()[X[2]:]\n",
    "    for rsi,data in zip(indicator_rsi.rsi(),X_train):\n",
    "        if rsi<X[0]:\n",
    "            inventory.append(data)\n",
    "        elif rsi>X[1] and len(inventory)>0:\n",
    "            bought_price = inventory.pop(0)\n",
    "            reward = max(data - bought_price, 0)\n",
    "            cummulative += data - bought_price\n",
    "            #print(\"Sell: \" + str(data) + \" | Profit: \" + str(data - bought_price))\n",
    "    return(cummulative)"
   ]
  },
  {
   "cell_type": "markdown",
   "metadata": {},
   "source": [
    "### Step 3 : Genes Selection\n",
    "#Tournament Selection <br>\n",
    "#Algorithm --<br>\n",
    "#1.Select k individuals from the population and perform a tournament amongst them <br>\n",
    "#2.Select the best individual from the k individuals <br>\n",
    "#3. Repeat process 1 and 2 until you have the desired amount of population <br>"
   ]
  },
  {
   "cell_type": "code",
   "execution_count": 4,
   "metadata": {},
   "outputs": [],
   "source": [
    "def _selection(fitnessResults, tournament_size,size_fitness):\n",
    "    selection_final=[]\n",
    "    for i in range(tournament_size):\n",
    "        contenders=[]\n",
    "        for i in range(0,3):\n",
    "            contenders.append(random.randint(0,size_fitness-1))\n",
    "        selected_parent_lst = []\n",
    "        for i in contenders:\n",
    "            #select 3\n",
    "            selected_parent_lst.append(fitnessResults[i])\n",
    "        #selected_parent_lst=dict(selected_parent_lst)\n",
    "    \n",
    "        #for i in range(len(selected_parent_lst)):\n",
    "        contenders_fit = [i[0] for i in selected_parent_lst]\n",
    "        contenders_params = [i[1] for i in selected_parent_lst]\n",
    "        contenders_index = int(np.argmax(contenders_fit))\n",
    "        selection_final.append(contenders_params[contenders_index])\n",
    "    return selection_final\n",
    "    #    selected_parent_lst.append(selected_parent)\n",
    "    #selected_parentA = selected_parent_lst[0]\n",
    "    #selected_parentB = selected_parent_lst[1]\n",
    "    #return selected_parentA, selected_parentB"
   ]
  },
  {
   "cell_type": "markdown",
   "metadata": {},
   "source": [
    "### Step 4 Operations of chromosomes - Crossover"
   ]
  },
  {
   "cell_type": "code",
   "execution_count": 5,
   "metadata": {},
   "outputs": [],
   "source": [
    "def crossover(selection):\n",
    "    for i in range(2):\n",
    "        variable_selection=random.randint(0,2)\n",
    "        variable1=random.randint(0,4)\n",
    "        variable2=random.randint(0,4)\n",
    "        temp=selection[variable1][variable_selection]\n",
    "        selection[variable1][variable_selection]=selection[variable2][variable_selection]\n",
    "        selection[variable2][variable_selection]=temp\n",
    "        if selection[variable1][0]>selection[variable1][1]:\n",
    "            temp=selection[variable1][0]\n",
    "            selection[variable1][0]=selection[variable1][1]\n",
    "            selection[variable1][1]=temp\n",
    "        if selection[variable2][0]>selection[variable2][1]:\n",
    "            temp=selection[variable2][0]\n",
    "            selection[variable2][0]=selection[variable2][1]\n",
    "            selection[variable2][1]=temp\n",
    "    return selection"
   ]
  },
  {
   "cell_type": "markdown",
   "metadata": {},
   "source": [
    "### Step 5 Operations of Chromosomes - Mutation"
   ]
  },
  {
   "cell_type": "code",
   "execution_count": 6,
   "metadata": {},
   "outputs": [],
   "source": [
    "#No Mutation"
   ]
  },
  {
   "cell_type": "markdown",
   "metadata": {},
   "source": [
    "### Step6 1 Generation Loop"
   ]
  },
  {
   "cell_type": "code",
   "execution_count": 277,
   "metadata": {},
   "outputs": [
    {
     "name": "stdout",
     "output_type": "stream",
     "text": [
      "Population:\n",
      "[[80, 95, 26], [44, 97, 29], [20, 78, 26], [87, 93, 20], [20, 22, 19], [43, 80, 13], [22, 75, 18], [28, 34, 26], [43, 52, 14], [79, 86, 22]]\n",
      "Calculate fitness\n",
      "[(168072.49000000002, [43, 80, 13]), (12340.679999999928, [43, 52, 14]), (6352.6900000000005, [79, 86, 22]), (1818.479999999999, [22, 75, 18]), (779.7499999999998, [20, 78, 26]), (764.7399999999983, [28, 34, 26]), (718.64, [87, 93, 20]), (420.7599999999995, [20, 22, 19]), (90.33999999999997, [80, 95, 26]), (0, [44, 97, 29])]\n",
      "Selection\n",
      "[[43, 80, 13], [79, 86, 22], [43, 52, 14], [43, 80, 13], [43, 80, 13]]\n",
      "crossover\n",
      "[[43, 86, 13], [79, 80, 14], [43, 52, 22], [43, 86, 13], [43, 86, 13]]\n"
     ]
    }
   ],
   "source": [
    "import random\n",
    "import operator\n",
    "\n",
    "pop = []\n",
    "for i in range(10):\n",
    "    pop_val=[]\n",
    "    for j in range(3):\n",
    "        if j==0:\n",
    "            param_ring = random.randint(0,100)\n",
    "        elif j==1:\n",
    "            param_ring = random.randint(param_ring,100)\n",
    "        else:\n",
    "            param_ring = random.randint(7,30)\n",
    "        pop_val.append(param_ring)\n",
    "    pop.append(pop_val)\n",
    "print(\"Population:\")\n",
    "print(pop)\n",
    "\n",
    "# Calculate fitness Value\n",
    "cummulative_o=[]\n",
    "fitnessResults={}\n",
    "for pop1 in pop:\n",
    "    cummulative = fit_evaluate(pop1)\n",
    "    cummulative_o.append(cummulative)\n",
    "for key,value in zip(cummulative_o,pop):\n",
    "    fitnessResults[key] = value\n",
    "len_fitness=len(fitnessResults)\n",
    "fitnessResults=sorted(fitnessResults.items(), key = operator.itemgetter(0), reverse = True)\n",
    "print(\"Calculate fitness\")\n",
    "print(fitnessResults)\n",
    "\n",
    "#Tournament Selection\n",
    "#Algorithm --\n",
    "#1.Select k individuals from the population and perform a tournament amongst them\n",
    "#2.Select the best individual from the k individuals\n",
    "#3. Repeat process 1 and 2 until you have the desired amount of population\n",
    "selection=_selection(fitnessResults, 5, len_fitness)\n",
    "print(\"Selection\")\n",
    "print(selection)\n",
    "\n",
    "#crossover\n",
    "crossover1 =crossover(selection)\n",
    "print(\"crossover\")\n",
    "print(crossover1)\n",
    "\n",
    "#no mutation"
   ]
  },
  {
   "cell_type": "markdown",
   "metadata": {},
   "source": [
    "### Step7 Perform loop to Run GA"
   ]
  },
  {
   "cell_type": "code",
   "execution_count": 278,
   "metadata": {},
   "outputs": [],
   "source": [
    "import random\n",
    "import operator\n",
    "\n",
    "pop = []\n",
    "for i in range(10):\n",
    "    pop_val=[]\n",
    "    for j in range(3):\n",
    "        if j==0:\n",
    "            param_ring = random.randint(0,100)\n",
    "        elif j==1:\n",
    "            param_ring = random.randint(param_ring,100)\n",
    "        else:\n",
    "            param_ring = random.randint(7,30)\n",
    "        pop_val.append(param_ring)\n",
    "    pop.append(pop_val)\n",
    "\n",
    "#10 generation\n",
    "for i in range(10):\n",
    "    # Calculate fitness Value\n",
    "    cummulative_o=[]\n",
    "    fitnessResults={}\n",
    "    for pop1 in pop:\n",
    "        cummulative = fit_evaluate(pop1)\n",
    "        cummulative_o.append(cummulative)\n",
    "    for key,value in zip(cummulative_o,pop):\n",
    "        fitnessResults[key] = value\n",
    "    size_fitness=len(fitnessResults)\n",
    "    fitnessResults=sorted(fitnessResults.items(), key = operator.itemgetter(0), reverse = True)\n",
    "\n",
    "    #Tournament Selection\n",
    "    #Algorithm --\n",
    "    #1.Select k individuals from the population and perform a tournament amongst them\n",
    "    #2.Select the best individual from the k individuals\n",
    "    #3. Repeat process 1 and 2 until you have the desired amount of population\n",
    "    selection=_selection(fitnessResults, 5,size_fitness)\n",
    "    #crossover\n",
    "    crossover1 =crossover(selection)\n",
    "\n",
    "    #no mutation\n",
    "    \n",
    "    #Create next population\n",
    "    pop = crossover1\n",
    "    for i in range(7):\n",
    "        pop_val=[]\n",
    "        for j in range(3):\n",
    "            if j==0 or j==1:\n",
    "                param_ring = random.randint(0,100)\n",
    "            else:\n",
    "                param_ring = random.randint(7,30)\n",
    "            pop_val.append(param_ring)\n",
    "        pop.append(pop_val)"
   ]
  },
  {
   "cell_type": "code",
   "execution_count": 279,
   "metadata": {},
   "outputs": [
    {
     "name": "stdout",
     "output_type": "stream",
     "text": [
      "(2990435.4999999832, [41, 66, 7])\n"
     ]
    }
   ],
   "source": [
    "#Evaluate the latest population group\n",
    "cummulative_o=[]\n",
    "fitnessResults={}\n",
    "for pop1 in pop:\n",
    "    cummulative = fit_evaluate(pop1)\n",
    "    cummulative_o.append(cummulative)\n",
    "for key,value in zip(cummulative_o,pop):\n",
    "    fitnessResults[key] = value\n",
    "size_fitness=len(fitnessResults)\n",
    "fitnessResults=sorted(fitnessResults.items(), key = operator.itemgetter(0), reverse = True)\n",
    "    \n",
    "print(fitnessResults[0])"
   ]
  },
  {
   "cell_type": "markdown",
   "metadata": {},
   "source": [
    "## Method 2 Using package \"geneticalgorithm 1.0.2\""
   ]
  },
  {
   "cell_type": "markdown",
   "metadata": {},
   "source": [
    "### Implementation using package \"geneticalgorithm 1.0.2\"\n",
    "Documentation : https://pypi.org/project/geneticalgorithm/"
   ]
  },
  {
   "cell_type": "code",
   "execution_count": 2,
   "metadata": {},
   "outputs": [],
   "source": [
    "import numpy as np\n",
    "import pandas as pd\n",
    "from geneticalgorithm import geneticalgorithm as ga\n",
    "\n",
    "df_eth = pd.read_csv('cryptos_eth.csv',\n",
    "                         usecols=[\"timestamp_val\", \"high_value\", \"low_value\", \"close_value\"])\n",
    "#asset_price = np.array(df_eth['close_value'].tolist())\n",
    "X_train, X_test = train_test_split(df_eth['close_value'], shuffle=False)"
   ]
  },
  {
   "cell_type": "code",
   "execution_count": 67,
   "metadata": {},
   "outputs": [],
   "source": [
    "from ta.momentum import RSIIndicator\n",
    "\n",
    "def f(X):\n",
    "    cummulative = 0\n",
    "    inventory = []\n",
    "    # Initialize RSI Indicator\n",
    "    df_eth = pd.read_csv('cryptos_eth.csv',\n",
    "                         usecols=[\"timestamp_val\", \"high_value\", \"low_value\", \"close_value\"])\n",
    "    indicator_rsi = RSIIndicator(close=df_eth['close_value'],  window= X[2], fillna = True)\n",
    "    X_train=np.array(df_eth['close_value'].tolist())\n",
    "    #X_train=X_train[X[2]:]\n",
    "    #indicator_rsi=indicator_rsi.rsi()[X[2]:]\n",
    "    for rsi,data in zip(indicator_rsi.rsi(),X_train):\n",
    "        if rsi<X[0]:\n",
    "            inventory.append(data)\n",
    "        elif rsi>X[1] and len(inventory)>0:\n",
    "            bought_price = inventory.pop(0)\n",
    "            reward = max(data - bought_price, 0)\n",
    "            cummulative += data - bought_price\n",
    "            #print(\"Sell: \" + str(data) + \" | Profit: \" + str(data - bought_price))\n",
    "    return -cummulative"
   ]
  },
  {
   "cell_type": "code",
   "execution_count": 69,
   "metadata": {},
   "outputs": [
    {
     "name": "stdout",
     "output_type": "stream",
     "text": [
      " The best solution found:                                                                           \n",
      " [53. 40. 30.]\n",
      "\n",
      " Objective function:\n",
      " -6668713.470000004\n"
     ]
    },
    {
     "data": {
      "image/png": "[encoded data removed]",
      "text/plain": [
       "<Figure size 432x288 with 1 Axes>"
      ]
     },
     "metadata": {
      "needs_background": "light"
     },
     "output_type": "display_data"
    }
   ],
   "source": [
    "varbound=np.array([[0,100],[0,100],[7,30]])\n",
    "\n",
    "algorithm_param = {'max_num_iteration': 3,\\\n",
    "                   'population_size':100,\\\n",
    "                   'mutation_probability':0,\\\n",
    "                   'elit_ratio': 0,\\\n",
    "                   'crossover_probability': 0.9,\\\n",
    "                   'parents_portion': 0.3,\\\n",
    "                   'crossover_type':'uniform',\\\n",
    "                   'max_iteration_without_improv':None}\n",
    "\n",
    "model=ga(function=f,dimension=3,variable_type='int',variable_boundaries=varbound,algorithm_parameters=algorithm_param)\n",
    "\n",
    "model.run()"
   ]
  },
  {
   "cell_type": "markdown",
   "metadata": {},
   "source": [
    "## Method 3 Using package \"TAGenAlgo\""
   ]
  },
  {
   "cell_type": "markdown",
   "metadata": {},
   "source": [
    "3 parameters to be optimized : Window Period for RSI, Lower Threshold for RSI, Upper Threshold for RSI"
   ]
  },
  {
   "cell_type": "code",
   "execution_count": 28,
   "metadata": {},
   "outputs": [],
   "source": [
    "df_eth = pd.read_csv('cryptos_eth.csv',\n",
    "                         usecols=[\"timestamp_val\", \"high_value\", \"low_value\", \"close_value\"])\n",
    "asset_price = np.array(df_eth['close_value'].tolist())\n",
    "X_train, X_test = train_test_split(asset_price, shuffle=False)\n",
    "X_train_ret = DataFrame(X_train, columns=['price']).pct_change()['price'].tolist()\n",
    "\n",
    "# Input the required parameters and name of strategy.\n",
    "model = TAGenAlgo(price=X_train, generations=3, population_size=100, crossover_prob=0.9, mutation_prob=0, method='single', strategy='rsi')\n",
    "\n",
    "# Initialize the model by setting the range of indicators.\n",
    "_, init_pop = model.ta_initialize(indicator_set={'rsi': {'window': [5, 180], 'down_thres': [5, 50], 'up_thres': [51, 90]}})"
   ]
  },
  {
   "cell_type": "code",
   "execution_count": 29,
   "metadata": {},
   "outputs": [
    {
     "name": "stdout",
     "output_type": "stream",
     "text": [
      "    |   Individual Performance    |                  Parameters                  |\n",
      "---- ----------------------------- ---------------------------------------------- ----\n",
      " Gen    Expected Return       Win% rsi_window  rsi_down_thres  rsi_up_thres \n",
      "   0             0.8850       0.69         25              43            65 \n",
      "   1             0.8850       0.69         25              43            65 \n",
      "The Predicted Strategy Return: 0.7893598524895147\n",
      "The Predicted Win Rate: 0.7212903225806452\n"
     ]
    },
    {
     "data": {
      "text/plain": [
       "(0.7893598524895147, 0.7212903225806452)"
      ]
     },
     "execution_count": 29,
     "metadata": {},
     "output_type": "execute_result"
    }
   ],
   "source": [
    "model.fit(init_pop)\n",
    "model.predict(X_test)"
   ]
  },
  {
   "cell_type": "markdown",
   "metadata": {},
   "source": [
    "### Compare Common Strategy with Optimized RSI Strategy (GA)\n",
    "In common strategy, when RSI is 30, it is oversold. When RSI is 70, it is overbought."
   ]
  },
  {
   "cell_type": "code",
   "execution_count": 31,
   "metadata": {},
   "outputs": [],
   "source": [
    "%matplotlib inline\n",
    "import talib\n",
    "import matplotlib.pyplot as plt\n",
    "from matplotlib import style"
   ]
  },
  {
   "cell_type": "code",
   "execution_count": 32,
   "metadata": {},
   "outputs": [],
   "source": [
    "# common parameters set for rsi strategy (window=14, low_threshold=30, high_threshold=70)\n",
    "rsi = talib.RSI(X_train, timeperiod = 14)\n",
    "rsi_sig = tg.rsi_signal(X_train, rsi, 30, 70, 0.03)\n",
    "rsi_ret = tg.strategy_ret(rsi_sig, X_train_ret)\n",
    "rsi_cum = tg.strategy_cum_ret(rsi_ret)"
   ]
  },
  {
   "cell_type": "code",
   "execution_count": 33,
   "metadata": {},
   "outputs": [],
   "source": [
    "# modified parameters set for rsi strategy (window=10, low_threshold=31, high_threshold=88)\n",
    "mod_rsi = talib.RSI(X_train, timeperiod = 11)\n",
    "mod_rsi_sig = tg.rsi_signal(X_train, mod_rsi, 49, 52, 0.03)\n",
    "mod_rsi_ret = tg.strategy_ret(mod_rsi_sig, X_train_ret)\n",
    "mod_rsi_cum = tg.strategy_cum_ret(mod_rsi_ret)"
   ]
  },
  {
   "cell_type": "code",
   "execution_count": 34,
   "metadata": {},
   "outputs": [
    {
     "data": {
      "image/png": "[encoded data removed]",
      "text/plain": [
       "<Figure size 1600x600 with 2 Axes>"
      ]
     },
     "metadata": {},
     "output_type": "display_data"
    }
   ],
   "source": [
    "style.use('default')\n",
    "fig = plt.figure(figsize=(16, 6))\n",
    "ax1 = fig.add_subplot(2, 1, 1)\n",
    "ax1.plot(np.array(X_train), color='k', label='ETH price')\n",
    "\n",
    "ax2 = fig.add_subplot(2, 1, 2)\n",
    "ax2.plot(np.array(rsi_cum), label='Common rsi ret', color='r')\n",
    "ax2.plot(np.array(mod_rsi_cum), label='Optimized GA rsi ret', color='b')\n",
    "\n",
    "ax1.legend(loc='upper left', prop={'size': 10})\n",
    "ax2.legend(loc='upper left', prop={'size': 10})\n",
    "plt.show()"
   ]
  }
 ],
 "metadata": {
  "kernelspec": {
   "display_name": "Python 3",
   "language": "python",
   "name": "python3"
  },
  "language_info": {
   "codemirror_mode": {
    "name": "ipython",
    "version": 3
   },
   "file_extension": ".py",
   "mimetype": "text/x-python",
   "name": "python",
   "nbconvert_exporter": "python",
   "pygments_lexer": "ipython3",
   "version": "3.8.11"
  }
 },
 "nbformat": 4,
 "nbformat_minor": 5
}
