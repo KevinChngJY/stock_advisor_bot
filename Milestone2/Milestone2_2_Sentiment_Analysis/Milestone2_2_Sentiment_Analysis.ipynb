{
 "cells": [
  {
   "cell_type": "markdown",
   "metadata": {},
   "source": [
    "# Milestone 2 Sentiment Analysis\n",
    "\n",
    "Description : It this script, it will select the top 10 mentioned stock in reddit, and later perform sentiment analysis for the top 10 mentioned stocks using the comment in reddit."
   ]
  },
  {
   "cell_type": "markdown",
   "metadata": {},
   "source": [
    "### 1.0 Import Packages"
   ]
  },
  {
   "cell_type": "code",
   "execution_count": 6,
   "metadata": {},
   "outputs": [],
   "source": [
    "import numpy as np\n",
    "import pandas as pd\n",
    "import nltk\n",
    "import praw\n",
    "import os\n",
    "import warnings\n",
    "warnings.filterwarnings('ignore')\n",
    "import time\n",
    "import matplotlib.pyplot as plt\n",
    "import squarify\n",
    "from nltk.sentiment.vader import SentimentIntensityAnalyzer\n",
    "from datetime import date"
   ]
  },
  {
   "cell_type": "markdown",
   "metadata": {},
   "source": [
    "### 2.0 Download Vader Lexicon - lexicon and rule base sentiment analysis tools\n",
    "To understand Vader Lexicon in detail : https://www.kaggle.com/nltkdata/vader-lexicon"
   ]
  },
  {
   "cell_type": "code",
   "execution_count": 2,
   "metadata": {},
   "outputs": [
    {
     "name": "stdout",
     "output_type": "stream",
     "text": [
      "/Users/user/Desktop/Milestone2\n"
     ]
    },
    {
     "name": "stderr",
     "output_type": "stream",
     "text": [
      "[nltk_data] Downloading package vader_lexicon to\n",
      "[nltk_data]     /Users/user/Desktop/Milestone2...\n"
     ]
    },
    {
     "data": {
      "text/plain": [
       "True"
      ]
     },
     "execution_count": 2,
     "metadata": {},
     "output_type": "execute_result"
    }
   ],
   "source": [
    "cwd = os.getcwd()\n",
    "# print current path\n",
    "print(cwd)\n",
    "nltk.download('vader_lexicon', download_dir=cwd)"
   ]
  },
  {
   "cell_type": "markdown",
   "metadata": {},
   "source": [
    "### 3.0 Only consider US stock with market cap > 100 Million & price > USD 3"
   ]
  },
  {
   "cell_type": "code",
   "execution_count": 4,
   "metadata": {},
   "outputs": [],
   "source": [
    "# US ticker stocks list is in the same path\n",
    "stocks = pd.read_csv('tickers.csv')\n",
    "\n",
    "# Last sale column is an object, let's convert to float\n",
    "stocks['Last Sale'] = stocks['Last Sale'].str.replace('$','')\n",
    "stocks['Last Sale'] = pd.to_numeric(stocks['Last Sale'],downcast='float')\n",
    "type(stocks['Last Sale'][0])\n",
    "\n",
    "# filter out stocks > usd3 and usd100 million cap\n",
    "price_filter = stocks['Last Sale'] >= 3.00\n",
    "cap_filter = stocks['Market Cap'] >= 100000000\n",
    "\n",
    "# make set of symbols\n",
    "stocks = set(stocks[(price_filter) & (cap_filter)]['Symbol'])"
   ]
  },
  {
   "cell_type": "markdown",
   "metadata": {},
   "source": [
    "### 4.0 Consider the Unique Lingo and Terminology used in the Subreddit r/Wallstreetbets."
   ]
  },
  {
   "cell_type": "code",
   "execution_count": 14,
   "metadata": {},
   "outputs": [],
   "source": [
    "# Includes common words and words used on wsb that are also stock names\n",
    "blacklist = {'I', 'ELON', 'WSB', 'THE', 'A', 'ROPE', 'YOLO', 'TOS', 'CEO', 'DD', 'IT', 'OPEN', 'ATH', 'PM', 'IRS', 'FOR','DEC', 'BE', 'IMO', 'ALL', 'RH', 'EV', 'TOS', 'CFO', 'CTO', 'DD', 'BTFD', 'WSB', 'OK', 'PDT', 'RH', 'KYS', 'FD', 'TYS', 'US', 'USA', 'IT', 'ATH', 'RIP', 'BMW', 'GDP', 'OTM', 'ATM', 'ITM', 'IMO', 'LOL', 'AM', 'BE', 'PR', 'PRAY', 'PT', 'FBI', 'SEC', 'GOD', 'NOT', 'POS', 'FOMO', 'TL;DR', 'EDIT', 'STILL', 'WTF', 'RAW', 'PM', 'LMAO', 'LMFAO', 'ROFL', 'EZ', 'RED', 'BEZOS', 'TICK', 'IS', 'PM', 'LPT', 'GOAT', 'FL', 'CA', 'IL', 'MACD', 'HQ', 'OP', 'PS', 'AH', 'TL', 'JAN', 'FEB', 'JUL', 'AUG', 'SEP', 'SEPT', 'OCT', 'NOV', 'FDA', 'IV', 'ER', 'IPO', 'MILF', 'BUT', 'SSN', 'FIFA', 'USD', 'CPU', 'AT', 'GG', 'Mar'}\n",
    "\n",
    "# Adding wsb/reddit flavor to vader to improve sentiment analysis, score: 4.0 to -4.0\n",
    "new_words = {\n",
    "    'citron': -4.0,  \n",
    "    'hidenburg': -4.0,        \n",
    "    'moon': 4.0,\n",
    "    'highs': 2.0,\n",
    "    'mooning': 4.0,\n",
    "    'long': 2.0,\n",
    "    'short': -2.0,\n",
    "    'call': 4.0,\n",
    "    'calls': 4.0,    \n",
    "    'put': -4.0,\n",
    "    'puts': -4.0,    \n",
    "    'break': 2.0,\n",
    "    'tendie': 2.0,\n",
    "     'tendies': 2.0,\n",
    "     'town': 2.0,     \n",
    "     'overvalued': -3.0,\n",
    "     'undervalued': 3.0,\n",
    "     'buy': 4.0,\n",
    "     'sell': -4.0,\n",
    "     'gone': -1.0,\n",
    "     'gtfo': -1.7,\n",
    "     'paper': -1.7,\n",
    "     'bullish': 3.7,\n",
    "     'bearish': -3.7,\n",
    "     'bagholder': -1.7,\n",
    "     'stonk': 1.9,\n",
    "     'green': 1.9,\n",
    "     'money': 1.2,\n",
    "     'print': 2.2,\n",
    "     'rocket': 2.2,\n",
    "     'bull': 2.9,\n",
    "     'bear': -2.9,\n",
    "     'pumping': -1.0,\n",
    "     'sus': -3.0,\n",
    "     'offering': -2.3,\n",
    "     'rip': -4.0,\n",
    "     'downgrade': -3.0,\n",
    "     'upgrade': 3.0,     \n",
    "     'maintain': 1.0,          \n",
    "     'pump': 1.9,\n",
    "     'hot': 1.5,\n",
    "     'drop': -2.5,\n",
    "     'rebound': 1.5,  \n",
    "     'crack': 2.5,}"
   ]
  },
  {
   "cell_type": "markdown",
   "metadata": {},
   "source": [
    "### 5.0 Start Sentiment Analysis\n",
    "it may take few minutes to complete the analysis.\n",
    "In this analysis, it use \"praw\" to accewss the Reddit forum. \"Praw\" is a open source python api for Reddit.\n",
    "For more detail, you may refer to the following link:\n",
    "https://praw.readthedocs.io/en/stable/"
   ]
  },
  {
   "cell_type": "code",
   "execution_count": 7,
   "metadata": {},
   "outputs": [
    {
     "name": "stdout",
     "output_type": "stream",
     "text": [
      "Running sentiment analysis, this may take a few minutes...\n",
      "\n"
     ]
    },
    {
     "name": "stderr",
     "output_type": "stream",
     "text": [
      "Version 7.0.0 of praw is outdated. Version 7.4.0 was released Friday July 30, 2021.\n"
     ]
    }
   ],
   "source": [
    "print(\"Running sentiment analysis, this may take a few minutes...\\n\")\n",
    "\n",
    "# Instantiate praw object\n",
    "start_time = time.time()\n",
    "reddit = praw.Reddit(user_agent=\"Comment Extraction\", client_id = \"QktIf3FZ10C5jg\" , client_secret= \"52XN7-d-s7tBO8Wld9mPQ19PMaV8HA\")"
   ]
  },
  {
   "cell_type": "code",
   "execution_count": 11,
   "metadata": {},
   "outputs": [],
   "source": [
    "# Set program parameters\n",
    "subs = ['wallstreetbets', 'stocks', 'investing', 'stockmarket']     # sub-reddit to search\n",
    "post_flairs = {'Daily Discussion', 'Weekend Discussion', 'Discussion'}    # posts flairs to search || None flair is automatically considered\n",
    "goodAuth = {'AutoModerator'}   # authors whom comments are allowed more than once\n",
    "uniqueCmt = True                # allow one comment per author per symbol\n",
    "ignoreAuthP = {'example'}       # authors to ignore for posts \n",
    "ignoreAuthC = {'example'}       # authors to ignore for comment\n",
    "upvoteRatio = 0.70         # upvote ratio for post to be considered, 0.70 = 70%\n",
    "ups = 20       # define # of upvotes, post is considered if upvotes exceed this #\n",
    "limit = 10      # define the limit, comments 'replace more' limit\n",
    "upvotes = 2     # define # of upvotes, comment is considered if upvotes exceed this #\n",
    "picks = 10     # define # of picks here, prints as \"Top ## picks are:\"\n",
    "picks_ayz = 10   # define # of picks for sentiment analysis\n",
    "\n",
    "# Define variables\n",
    "posts, count, c_analyzed, tickers, titles, a_comments = 0, 0, 0, {}, [], {}\n",
    "cmt_auth = {}"
   ]
  },
  {
   "cell_type": "code",
   "execution_count": 15,
   "metadata": {},
   "outputs": [],
   "source": [
    "# start web-crawling and do the sentiment analysis\n",
    "for sub in subs:\n",
    "    subreddit = reddit.subreddit(sub)\n",
    "    hot_python = subreddit.hot()\n",
    "    # Extracting comments, symbols from subreddit\n",
    "    for submission in hot_python:\n",
    "        flair = submission.link_flair_text\n",
    "        author = submission.author #name\n",
    "        \n",
    "        #checking: post upvote ratio # of upvotes, post filter, and author\n",
    "        if submission.upvote_ratio >= upvoteRatio and submission.ups > ups and (flair in post_flairs or flair is None) and author not in ignoreAuthP:\n",
    "            submission.comment_sort = 'new'\n",
    "            comments = submission.comments\n",
    "            titles.append(submission.title)\n",
    "            posts += 1\n",
    "            submission.comments.replace_more(limit = limit)\n",
    "            for comment in comments:\n",
    "                # try except for deleted account?\n",
    "                try:\n",
    "                    auth = comment.author.name\n",
    "                except:\n",
    "                    pass\n",
    "                c_analyzed += 1\n",
    "\n",
    "                # checking: comment upvotes and author\n",
    "                if comment.score > upvotes and auth not in ignoreAuthC:\n",
    "                    split = comment.body.split(' ')\n",
    "                    for word in split:\n",
    "                        word = word.replace(\"$\", \"\")\n",
    "                        # upper = ticker, length of ticker <= 5, excluded words\n",
    "                        if word.isupper() and len(word) <= 5 and word not in blacklist and word in stocks:\n",
    "                            \n",
    "                            # unique comments, try/except for key errors\n",
    "                            if uniqueCmt and auth not in goodAuth:\n",
    "                                try:\n",
    "                                    if auth in cmt_auth[word]:\n",
    "                                        break\n",
    "                                except:\n",
    "                                    pass\n",
    "                            \n",
    "                            # counting tickers\n",
    "                            if word in tickers:\n",
    "                                tickers[word] += 1\n",
    "                                a_comments[word].append(comment.body)\n",
    "                                cmt_auth[word].append(auth)\n",
    "                            count += 1\n",
    "                            else:\n",
    "                                tickers[word] = 1\n",
    "                                cmt_auth[word] = [auth]\n",
    "                                a_comments[word] = [comment.body]\n",
    "                                count += 1"
   ]
  },
  {
   "cell_type": "code",
   "execution_count": 33,
   "metadata": {},
   "outputs": [],
   "source": [
    "# sorts the dictionary\n",
    "symbols = dict(sorted(tickers.items(), key=lambda item: item[1], reverse = True))\n",
    "top_picks = list(symbols.keys())[0:picks]\n",
    "time = (time.time() - start_time)"
   ]
  },
  {
   "cell_type": "code",
   "execution_count": 35,
   "metadata": {},
   "outputs": [
    {
     "name": "stdout",
     "output_type": "stream",
     "text": [
      "It took 66893.08 seconds to analyze 4377 comments in 82 posts in 4 subreddits.\n",
      "\n",
      "Posts analyzed saved in titles\n",
      "\n",
      "10 most mentioned picks: \n",
      "AAPL: 11 \n",
      "AMD: 11 \n",
      "INTC: 9 \n",
      "NVDA: 8 \n",
      "ASML: 7 \n",
      "TSLA: 5 \n",
      "MU: 4 \n",
      "MSFT: 4 \n",
      "AMZN: 3 \n",
      "ON: 2\n",
      "\n"
     ]
    }
   ],
   "source": [
    "# print top picks\n",
    "print(\"It took {t:.2f} seconds to analyze {c} comments in {p} posts in {s} subreddits.\\n\".format(t=time,\n",
    "                                                                                                c=c_analyzed,\n",
    "                                                                                                p=posts,\n",
    "                                                                                                s=len(subs)))\n",
    "print(\"Posts analyzed saved in titles\")\n",
    "# for i in titles: print(i) # prints the title of the posts analyzed\n",
    "\n",
    "print(f\"\\n{picks} most mentioned picks: \")\n",
    "times = []\n",
    "top = []\n",
    "for i in top_picks:\n",
    "    #print(f\"{i}: {symbols[i]}\")\n",
    "    times.append(symbols[i])\n",
    "    top.append(f\"{i}: {symbols[i]}\")\n",
    "#print(' '.join(map(str, top)))\n",
    "top_10 = '''{} \\n{} \\n{} \\n{} \\n{} \\n{} \\n{} \\n{} \\n{} \\n{}\n",
    "'''.format(top[0],top[1],top[2],top[3],top[4],top[5],top[6],top[7],top[8],top[9])\n",
    "print(top_10)"
   ]
  },
  {
   "cell_type": "code",
   "execution_count": 37,
   "metadata": {},
   "outputs": [
    {
     "name": "stdout",
     "output_type": "stream",
     "text": [
      "\n",
      "Sentiment analysis of top 10 picks:\n",
      "     Bearish Neutral Bullish Total_Compound\n",
      "AAPL   0.110   0.733   0.157          0.258\n",
      "AMD    0.032   0.825   0.142          0.523\n",
      "INTC   0.079   0.763   0.159          0.361\n",
      "NVDA   0.009   0.887   0.104          0.065\n",
      "ASML   0.020   0.852   0.128          0.419\n",
      "TSLA   0.016   0.884   0.100          0.341\n",
      "MU     0.022   0.926   0.052          0.371\n",
      "MSFT   0.017   0.900   0.083          0.372\n",
      "AMZN   0.027   0.840   0.133          0.417\n",
      "ON     0.122   0.806   0.071         -0.065\n"
     ]
    }
   ],
   "source": [
    "# Applying sentiment analysis\n",
    "scores, s = {}, {}\n",
    "\n",
    "vader = SentimentIntensityAnalyzer()\n",
    "# adding custom words from data.py\n",
    "vader.lexicon.update(new_words)\n",
    "\n",
    "picks_sentiment = list(symbols.keys())[0: picks_ayz]\n",
    "for symbol in picks_sentiment:\n",
    "    stock_comments = a_comments[symbol]\n",
    "    for cmnt in stock_comments:\n",
    "        score = vader.polarity_scores(cmnt)\n",
    "        if symbol in s:\n",
    "            s[symbol][cmnt] = score\n",
    "        else:\n",
    "            s[symbol] = {cmnt: score}\n",
    "        if symbol in scores:\n",
    "            for key, _ in score.items():\n",
    "                scores[symbol][key] += score[key]\n",
    "        else:\n",
    "            scores[symbol] = score\n",
    "\n",
    "    # calculating averages\n",
    "    for key in score:\n",
    "        scores[symbol][key] = scores[symbol][key] / symbols[symbol]\n",
    "        scores[symbol][key] = \"{pol:.3f}\".format(pol=scores[symbol][key])\n",
    "\n",
    "# Printing sentiment analysis\n",
    "print(f\"\\nSentiment analysis of top {picks_ayz} picks:\")\n",
    "df = pd.DataFrame(scores)\n",
    "df.index = ['Bearish', 'Neutral', 'Bullish', 'Total_Compound']\n",
    "df = df.T\n",
    "print(df)"
   ]
  },
  {
   "cell_type": "code",
   "execution_count": 42,
   "metadata": {},
   "outputs": [
    {
     "data": {
      "image/png": "[encoded data removed]",
      "text/plain": [
       "<Figure size 640x480 with 1 Axes>"
      ]
     },
     "metadata": {},
     "output_type": "display_data"
    }
   ],
   "source": [
    "# Data Visualization\n",
    "# Most mentioned picks\n",
    "squarify.plot(sizes=times, label=top, alpha=0.7)\n",
    "plt.axis('off')\n",
    "plt.title(f\"{picks} most mentioned picks\")\n",
    "plt.show()"
   ]
  },
  {
   "cell_type": "code",
   "execution_count": 43,
   "metadata": {},
   "outputs": [
    {
     "data": {
      "image/png": "[encoded data removed]",
      "text/plain": [
       "<Figure size 640x480 with 1 Axes>"
      ]
     },
     "metadata": {},
     "output_type": "display_data"
    }
   ],
   "source": [
    "# Sentiment analysis\n",
    "df = df.astype(float)\n",
    "colors = ['red', 'springgreen', 'forestgreen', 'coral']\n",
    "df.plot(kind='bar', color=colors, title=f\"Sentiment analysis of top {picks_ayz} picks:\")\n",
    "fig = plt.gcf()\n",
    "plt.show()\n",
    "fig.savefig('SentimentAnalyzer.png')"
   ]
  },
  {
   "cell_type": "code",
   "execution_count": 44,
   "metadata": {},
   "outputs": [],
   "source": [
    "# append date column to dataframe for storing in database\n",
    "df['date'] = [date.today() for x in range(df.shape[0])]\n",
    "df.reset_index(inplace=True)\n",
    "df.rename(columns={'index': 'stock'}, inplace=True)\n",
    "\n",
    "# Save current top wsb stocks to csv file\n",
    "df.to_csv('df.csv')"
   ]
  }
 ],
 "metadata": {
  "kernelspec": {
   "display_name": "Python 3",
   "language": "python",
   "name": "python3"
  },
  "language_info": {
   "codemirror_mode": {
    "name": "ipython",
    "version": 3
   },
   "file_extension": ".py",
   "mimetype": "text/x-python",
   "name": "python",
   "nbconvert_exporter": "python",
   "pygments_lexer": "ipython3",
   "version": "3.8.11"
  }
 },
 "nbformat": 4,
 "nbformat_minor": 4
}
