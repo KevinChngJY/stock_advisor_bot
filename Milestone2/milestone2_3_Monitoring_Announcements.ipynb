{
 "cells": [
  {
   "cell_type": "markdown",
   "metadata": {},
   "source": [
    "# Web Crawling - Bursa Announcement"
   ]
  },
  {
   "cell_type": "markdown",
   "metadata": {},
   "source": [
    "### Import Packages"
   ]
  },
  {
   "cell_type": "code",
   "execution_count": 91,
   "metadata": {},
   "outputs": [
    {
     "name": "stderr",
     "output_type": "stream",
     "text": [
      "/opt/anaconda3/envs/isa_project/lib/python3.8/site-packages/selenium/webdriver/phantomjs/webdriver.py:49: UserWarning: Selenium support for PhantomJS has been deprecated, please use headless versions of Chrome or Firefox instead\n",
      "  warnings.warn('Selenium support for PhantomJS has been deprecated, please use headless '\n"
     ]
    }
   ],
   "source": [
    "import urllib.request\n",
    "import pandas as pd\n",
    "pd.set_option('display.max_rows', None, 'display.max_columns', None)\n",
    "\n",
    "# Web Scraping for Financial Price\n",
    "from bs4 import BeautifulSoup\n",
    "from selenium import webdriver\n",
    "driver = webdriver.PhantomJS()\n",
    "import requests\n",
    "import time\n",
    "\n",
    "# Time Management\n",
    "from datetime import datetime, timedelta, date"
   ]
  },
  {
   "cell_type": "markdown",
   "metadata": {},
   "source": [
    "### Extract Announcement Table\n",
    "Only Extract Today date Announcement"
   ]
  },
  {
   "cell_type": "code",
   "execution_count": 18,
   "metadata": {},
   "outputs": [
    {
     "name": "stdout",
     "output_type": "stream",
     "text": [
      "https://www.bursamalaysia.com/market_information/announcements/company_announcement?page=1\n",
      "https://www.bursamalaysia.com/market_information/announcements/company_announcement?page=2\n",
      "https://www.bursamalaysia.com/market_information/announcements/company_announcement?page=3\n",
      "https://www.bursamalaysia.com/market_information/announcements/company_announcement?page=4\n",
      "https://www.bursamalaysia.com/market_information/announcements/company_announcement?page=5\n",
      "https://www.bursamalaysia.com/market_information/announcements/company_announcement?page=6\n",
      "https://www.bursamalaysia.com/market_information/announcements/company_announcement?page=7\n",
      "https://www.bursamalaysia.com/market_information/announcements/company_announcement?page=8\n",
      "https://www.bursamalaysia.com/market_information/announcements/company_announcement?page=9\n",
      "https://www.bursamalaysia.com/market_information/announcements/company_announcement?page=10\n",
      "https://www.bursamalaysia.com/market_information/announcements/company_announcement?page=11\n",
      "https://www.bursamalaysia.com/market_information/announcements/company_announcement?page=12\n",
      "https://www.bursamalaysia.com/market_information/announcements/company_announcement?page=13\n",
      "https://www.bursamalaysia.com/market_information/announcements/company_announcement?page=14\n",
      "https://www.bursamalaysia.com/market_information/announcements/company_announcement?page=15\n",
      "https://www.bursamalaysia.com/market_information/announcements/company_announcement?page=16\n",
      "https://www.bursamalaysia.com/market_information/announcements/company_announcement?page=17\n",
      "https://www.bursamalaysia.com/market_information/announcements/company_announcement?page=18\n",
      "https://www.bursamalaysia.com/market_information/announcements/company_announcement?page=19\n",
      "https://www.bursamalaysia.com/market_information/announcements/company_announcement?page=20\n",
      "https://www.bursamalaysia.com/market_information/announcements/company_announcement?page=21\n",
      "https://www.bursamalaysia.com/market_information/announcements/company_announcement?page=22\n",
      "https://www.bursamalaysia.com/market_information/announcements/company_announcement?page=23\n",
      "https://www.bursamalaysia.com/market_information/announcements/company_announcement?page=24\n",
      "https://www.bursamalaysia.com/market_information/announcements/company_announcement?page=25\n",
      "https://www.bursamalaysia.com/market_information/announcements/company_announcement?page=26\n",
      "https://www.bursamalaysia.com/market_information/announcements/company_announcement?page=27\n",
      "https://www.bursamalaysia.com/market_information/announcements/company_announcement?page=28\n",
      "https://www.bursamalaysia.com/market_information/announcements/company_announcement?page=29\n",
      "https://www.bursamalaysia.com/market_information/announcements/company_announcement?page=30\n",
      "https://www.bursamalaysia.com/market_information/announcements/company_announcement?page=31\n",
      "https://www.bursamalaysia.com/market_information/announcements/company_announcement?page=32\n"
     ]
    }
   ],
   "source": [
    "temp_build = 1\n",
    "while(today_check):\n",
    "    website = \"https://www.bursamalaysia.com/market_information/announcements/company_announcement?page={}\".format(temp_build)\n",
    "    print(website)\n",
    "    driver.get(website)\n",
    "    p_element = driver.find_element_by_id(id_='table-announcements')\n",
    "    w=p_element.get_attribute('outerHTML')\n",
    "    BloomSoup = BeautifulSoup(w)\n",
    "    contents = BloomSoup.find_all('table')\n",
    "    dfs = pd.read_html(str(contents))\n",
    "    \n",
    "    #Check Today date : Quite Tab\n",
    "    today = date.today().strftime('%d %b %Y')\n",
    "    if \"30 Aug 2021\" not in dfs[0][\"Announcement DateAnn. Date\"].iloc[-1]:\n",
    "        for index in range(len(dfs[0][\"Announcement DateAnn. Date\"])):\n",
    "            if \"30 Aug 2021\" in dfs[0][\"Announcement DateAnn. Date\"][index]:\n",
    "                main_df.append(dfs[0].iloc[index])\n",
    "        break\n",
    "    \n",
    "    #Concatenate table from different Page\n",
    "    if temp_build ==1:\n",
    "        main_df = dfs[0].copy()\n",
    "    else:\n",
    "        main_df.append(dfs[0])\n",
    "    \n",
    "    #Update page number\n",
    "    temp_build = temp_build +1"
   ]
  },
  {
   "cell_type": "markdown",
   "metadata": {},
   "source": [
    "### Display Table"
   ]
  },
  {
   "cell_type": "code",
   "execution_count": 19,
   "metadata": {},
   "outputs": [
    {
     "data": {
      "text/html": [
       "<div>\n",
       "<style scoped>\n",
       "    .dataframe tbody tr th:only-of-type {\n",
       "        vertical-align: middle;\n",
       "    }\n",
       "\n",
       "    .dataframe tbody tr th {\n",
       "        vertical-align: top;\n",
       "    }\n",
       "\n",
       "    .dataframe thead th {\n",
       "        text-align: right;\n",
       "    }\n",
       "</style>\n",
       "<table border=\"1\" class=\"dataframe\">\n",
       "  <thead>\n",
       "    <tr style=\"text-align: right;\">\n",
       "      <th></th>\n",
       "      <th>No.</th>\n",
       "      <th>Announcement DateAnn. Date</th>\n",
       "      <th>Company NameCo. Name</th>\n",
       "      <th>Title</th>\n",
       "    </tr>\n",
       "  </thead>\n",
       "  <tbody>\n",
       "    <tr>\n",
       "      <th>0</th>\n",
       "      <td>1</td>\n",
       "      <td>30 Aug 2021 30 Aug 2021</td>\n",
       "      <td>KANGER INTERNATIONAL BERHAD</td>\n",
       "      <td>Annual Report &amp; CG Report - 2021</td>\n",
       "    </tr>\n",
       "    <tr>\n",
       "      <th>1</th>\n",
       "      <td>2</td>\n",
       "      <td>30 Aug 2021 30 Aug 2021</td>\n",
       "      <td>M3 TECHNOLOGIES (ASIA) BERHAD</td>\n",
       "      <td>PROPOSED NEW SHAREHOLDERS MANDATE FOR RECURREN...</td>\n",
       "    </tr>\n",
       "    <tr>\n",
       "      <th>2</th>\n",
       "      <td>3</td>\n",
       "      <td>30 Aug 2021 30 Aug 2021</td>\n",
       "      <td>M3 TECHNOLOGIES (ASIA) BERHAD</td>\n",
       "      <td>Annual Report &amp; CG Report - 2021</td>\n",
       "    </tr>\n",
       "    <tr>\n",
       "      <th>3</th>\n",
       "      <td>4</td>\n",
       "      <td>30 Aug 2021 30 Aug 2021</td>\n",
       "      <td>MYETF MSCI SEA ISLAMIC DIVIDEND</td>\n",
       "      <td>NET ASSET VALUE / INDICATIVE OPTIMUM PORTFOLIO...</td>\n",
       "    </tr>\n",
       "    <tr>\n",
       "      <th>4</th>\n",
       "      <td>5</td>\n",
       "      <td>30 Aug 2021 30 Aug 2021</td>\n",
       "      <td>MYETF MSCI MALAYSIA ISLAMIC DIVIDEND</td>\n",
       "      <td>NET ASSET VALUE / INDICATIVE OPTIMUM PORTFOLIO...</td>\n",
       "    </tr>\n",
       "    <tr>\n",
       "      <th>5</th>\n",
       "      <td>6</td>\n",
       "      <td>30 Aug 2021 30 Aug 2021</td>\n",
       "      <td>DYNAFRONT HOLDINGS BERHAD</td>\n",
       "      <td>Half yearly rpt on consolidated results for th...</td>\n",
       "    </tr>\n",
       "    <tr>\n",
       "      <th>6</th>\n",
       "      <td>7</td>\n",
       "      <td>30 Aug 2021 30 Aug 2021</td>\n",
       "      <td>M3 TECHNOLOGIES (ASIA) BERHAD</td>\n",
       "      <td>AUDIT REPORT - MODIFIED OPINION / MATERIAL UNC...</td>\n",
       "    </tr>\n",
       "    <tr>\n",
       "      <th>7</th>\n",
       "      <td>8</td>\n",
       "      <td>30 Aug 2021 30 Aug 2021</td>\n",
       "      <td>MYETF DOW JONES ISLAMIC MARKET MALAYSIA TITANS 25</td>\n",
       "      <td>NET ASSET VALUE / INDICATIVE OPTIMUM PORTFOLIO...</td>\n",
       "    </tr>\n",
       "    <tr>\n",
       "      <th>8</th>\n",
       "      <td>9</td>\n",
       "      <td>30 Aug 2021 30 Aug 2021</td>\n",
       "      <td>ASIAN PAC HOLDINGS BERHAD</td>\n",
       "      <td>Annual Report &amp; CG Report - 2021</td>\n",
       "    </tr>\n",
       "    <tr>\n",
       "      <th>9</th>\n",
       "      <td>10</td>\n",
       "      <td>30 Aug 2021 30 Aug 2021</td>\n",
       "      <td>M3 TECHNOLOGIES (ASIA) BERHAD</td>\n",
       "      <td>General Meetings: Notice of Meeting (Amended A...</td>\n",
       "    </tr>\n",
       "    <tr>\n",
       "      <th>10</th>\n",
       "      <td>11</td>\n",
       "      <td>30 Aug 2021 30 Aug 2021</td>\n",
       "      <td>TRADEPLUS MSCI ASIA EX JAPAN REITS TRACKER</td>\n",
       "      <td>NET ASSET VALUE / INDICATIVE OPTIMUM PORTFOLIO...</td>\n",
       "    </tr>\n",
       "    <tr>\n",
       "      <th>11</th>\n",
       "      <td>12</td>\n",
       "      <td>30 Aug 2021 30 Aug 2021</td>\n",
       "      <td>TRADEPLUS SHARIAH GOLD TRACKER</td>\n",
       "      <td>NET ASSET VALUE / INDICATIVE OPTIMUM PORTFOLIO...</td>\n",
       "    </tr>\n",
       "    <tr>\n",
       "      <th>12</th>\n",
       "      <td>13</td>\n",
       "      <td>30 Aug 2021 30 Aug 2021</td>\n",
       "      <td>NWP HOLDINGS BERHAD</td>\n",
       "      <td>Change in Boardroom - MR YEW ONN CHONG</td>\n",
       "    </tr>\n",
       "    <tr>\n",
       "      <th>13</th>\n",
       "      <td>14</td>\n",
       "      <td>30 Aug 2021 30 Aug 2021</td>\n",
       "      <td>TRADEPLUS DWA MALAYSIA MOMENTUM TRACKER</td>\n",
       "      <td>NET ASSET VALUE / INDICATIVE OPTIMUM PORTFOLIO...</td>\n",
       "    </tr>\n",
       "    <tr>\n",
       "      <th>14</th>\n",
       "      <td>15</td>\n",
       "      <td>30 Aug 2021 30 Aug 2021</td>\n",
       "      <td>PETRONAS GAS BERHAD</td>\n",
       "      <td>Changes in Sub. S-hldr's Int (Section 138 of C...</td>\n",
       "    </tr>\n",
       "    <tr>\n",
       "      <th>15</th>\n",
       "      <td>16</td>\n",
       "      <td>30 Aug 2021 30 Aug 2021</td>\n",
       "      <td>NWP HOLDINGS BERHAD</td>\n",
       "      <td>Change in Remuneration Committee - MR TANG KIT...</td>\n",
       "    </tr>\n",
       "    <tr>\n",
       "      <th>16</th>\n",
       "      <td>17</td>\n",
       "      <td>30 Aug 2021 30 Aug 2021</td>\n",
       "      <td>NWP HOLDINGS BERHAD</td>\n",
       "      <td>Change in Boardroom - MR TANG KIT SEANG</td>\n",
       "    </tr>\n",
       "    <tr>\n",
       "      <th>17</th>\n",
       "      <td>18</td>\n",
       "      <td>30 Aug 2021 30 Aug 2021</td>\n",
       "      <td>NWP HOLDINGS BERHAD</td>\n",
       "      <td>Change in Boardroom - MR HONG CHIA SEONG</td>\n",
       "    </tr>\n",
       "    <tr>\n",
       "      <th>18</th>\n",
       "      <td>19</td>\n",
       "      <td>30 Aug 2021 30 Aug 2021</td>\n",
       "      <td>NWP HOLDINGS BERHAD</td>\n",
       "      <td>Change in Risk Committee - MR HONG CHIA SEONG</td>\n",
       "    </tr>\n",
       "    <tr>\n",
       "      <th>19</th>\n",
       "      <td>20</td>\n",
       "      <td>30 Aug 2021 30 Aug 2021</td>\n",
       "      <td>NWP HOLDINGS BERHAD</td>\n",
       "      <td>Change in Remuneration Committee - MR HONG CHI...</td>\n",
       "    </tr>\n",
       "  </tbody>\n",
       "</table>\n",
       "</div>"
      ],
      "text/plain": [
       "    No. Announcement DateAnn. Date  \\\n",
       "0     1    30 Aug 2021 30 Aug 2021   \n",
       "1     2    30 Aug 2021 30 Aug 2021   \n",
       "2     3    30 Aug 2021 30 Aug 2021   \n",
       "3     4    30 Aug 2021 30 Aug 2021   \n",
       "4     5    30 Aug 2021 30 Aug 2021   \n",
       "5     6    30 Aug 2021 30 Aug 2021   \n",
       "6     7    30 Aug 2021 30 Aug 2021   \n",
       "7     8    30 Aug 2021 30 Aug 2021   \n",
       "8     9    30 Aug 2021 30 Aug 2021   \n",
       "9    10    30 Aug 2021 30 Aug 2021   \n",
       "10   11    30 Aug 2021 30 Aug 2021   \n",
       "11   12    30 Aug 2021 30 Aug 2021   \n",
       "12   13    30 Aug 2021 30 Aug 2021   \n",
       "13   14    30 Aug 2021 30 Aug 2021   \n",
       "14   15    30 Aug 2021 30 Aug 2021   \n",
       "15   16    30 Aug 2021 30 Aug 2021   \n",
       "16   17    30 Aug 2021 30 Aug 2021   \n",
       "17   18    30 Aug 2021 30 Aug 2021   \n",
       "18   19    30 Aug 2021 30 Aug 2021   \n",
       "19   20    30 Aug 2021 30 Aug 2021   \n",
       "\n",
       "                                 Company NameCo. Name  \\\n",
       "0                         KANGER INTERNATIONAL BERHAD   \n",
       "1                       M3 TECHNOLOGIES (ASIA) BERHAD   \n",
       "2                       M3 TECHNOLOGIES (ASIA) BERHAD   \n",
       "3                     MYETF MSCI SEA ISLAMIC DIVIDEND   \n",
       "4                MYETF MSCI MALAYSIA ISLAMIC DIVIDEND   \n",
       "5                           DYNAFRONT HOLDINGS BERHAD   \n",
       "6                       M3 TECHNOLOGIES (ASIA) BERHAD   \n",
       "7   MYETF DOW JONES ISLAMIC MARKET MALAYSIA TITANS 25   \n",
       "8                           ASIAN PAC HOLDINGS BERHAD   \n",
       "9                       M3 TECHNOLOGIES (ASIA) BERHAD   \n",
       "10         TRADEPLUS MSCI ASIA EX JAPAN REITS TRACKER   \n",
       "11                     TRADEPLUS SHARIAH GOLD TRACKER   \n",
       "12                                NWP HOLDINGS BERHAD   \n",
       "13            TRADEPLUS DWA MALAYSIA MOMENTUM TRACKER   \n",
       "14                                PETRONAS GAS BERHAD   \n",
       "15                                NWP HOLDINGS BERHAD   \n",
       "16                                NWP HOLDINGS BERHAD   \n",
       "17                                NWP HOLDINGS BERHAD   \n",
       "18                                NWP HOLDINGS BERHAD   \n",
       "19                                NWP HOLDINGS BERHAD   \n",
       "\n",
       "                                                Title  \n",
       "0                    Annual Report & CG Report - 2021  \n",
       "1   PROPOSED NEW SHAREHOLDERS MANDATE FOR RECURREN...  \n",
       "2                    Annual Report & CG Report - 2021  \n",
       "3   NET ASSET VALUE / INDICATIVE OPTIMUM PORTFOLIO...  \n",
       "4   NET ASSET VALUE / INDICATIVE OPTIMUM PORTFOLIO...  \n",
       "5   Half yearly rpt on consolidated results for th...  \n",
       "6   AUDIT REPORT - MODIFIED OPINION / MATERIAL UNC...  \n",
       "7   NET ASSET VALUE / INDICATIVE OPTIMUM PORTFOLIO...  \n",
       "8                    Annual Report & CG Report - 2021  \n",
       "9   General Meetings: Notice of Meeting (Amended A...  \n",
       "10  NET ASSET VALUE / INDICATIVE OPTIMUM PORTFOLIO...  \n",
       "11  NET ASSET VALUE / INDICATIVE OPTIMUM PORTFOLIO...  \n",
       "12             Change in Boardroom - MR YEW ONN CHONG  \n",
       "13  NET ASSET VALUE / INDICATIVE OPTIMUM PORTFOLIO...  \n",
       "14  Changes in Sub. S-hldr's Int (Section 138 of C...  \n",
       "15  Change in Remuneration Committee - MR TANG KIT...  \n",
       "16            Change in Boardroom - MR TANG KIT SEANG  \n",
       "17           Change in Boardroom - MR HONG CHIA SEONG  \n",
       "18      Change in Risk Committee - MR HONG CHIA SEONG  \n",
       "19  Change in Remuneration Committee - MR HONG CHI...  "
      ]
     },
     "execution_count": 19,
     "metadata": {},
     "output_type": "execute_result"
    }
   ],
   "source": [
    "main_df"
   ]
  },
  {
   "cell_type": "markdown",
   "metadata": {},
   "source": [
    "### Extract Announcemnt for specific stocks\n",
    "* Extract the annoucment according to selected stocks\n",
    "* Link to full announcement"
   ]
  },
  {
   "cell_type": "code",
   "execution_count": 50,
   "metadata": {},
   "outputs": [],
   "source": [
    "list_of_selected_stock = [\"GENTING MALAYSIA BERHAD\", \"M3 TECHNOLOGIES (ASIA) BERHAD\"]"
   ]
  },
  {
   "cell_type": "code",
   "execution_count": 46,
   "metadata": {},
   "outputs": [
    {
     "data": {
      "text/plain": [
       "'/market_information/announcements/company_announcement/announcement_details?ann_id=3188087'"
      ]
     },
     "execution_count": 46,
     "metadata": {},
     "output_type": "execute_result"
    }
   ],
   "source": [
    "\n",
    "list_a[1]['href']#https://www.bursamalaysia.com/\n"
   ]
  },
  {
   "cell_type": "code",
   "execution_count": 70,
   "metadata": {},
   "outputs": [
    {
     "data": {
      "text/plain": [
       "'VP-DJ SHARIAH CHINA A-SHARES 100 ETF - MYR'"
      ]
     },
     "execution_count": 70,
     "metadata": {},
     "output_type": "execute_result"
    }
   ],
   "source": [
    "list_a[0].text.replace(\"\\n\",\"\")"
   ]
  },
  {
   "cell_type": "code",
   "execution_count": 102,
   "metadata": {},
   "outputs": [],
   "source": [
    "def get_information_stock(list_stock):\n",
    "    temp_build=1\n",
    "    Company = []\n",
    "    Title = []\n",
    "    Link = []\n",
    "    today_check=True\n",
    "    while(today_check):\n",
    "        website = \"https://www.bursamalaysia.com/market_information/announcements/company_announcement?page={}\".format(temp_build)\n",
    "        print(website)\n",
    "        driver.get(website)\n",
    "        p_element = driver.find_element_by_id(id_='table-announcements')\n",
    "        w=p_element.get_attribute('outerHTML')\n",
    "        BloomSoup = BeautifulSoup(w)\n",
    "        contents = BloomSoup.find_all('tr')\n",
    "        for p in range(1,len(contents)):\n",
    "            mydivs = contents[p].find_all(\"div\", {\"class\": \"d-lg-inline-block d-none\"})\n",
    "            list_a = contents[p].find_all('a')\n",
    "            check_company=list_a[0].text.replace(\"\\n\",\"\")\n",
    "            today = date.today().strftime('%d %b %Y')\n",
    "            if \"30 Aug 2021\" not in mydivs[0].text:\n",
    "                today_check=False\n",
    "            if check_company in list_of_selected_stock:\n",
    "                print(check_company)\n",
    "                Company.append(check_company)\n",
    "                Title.append(list_a[1].text.replace(\"\\n\",\"\"))\n",
    "                Link.append(\"https://www.bursamalaysia.com\"+list_a[1]['href']) \n",
    "        time.sleep(1)                      \n",
    "        #Update page number\n",
    "        temp_build = temp_build +1\n",
    "    return Company,Title,Link"
   ]
  },
  {
   "cell_type": "code",
   "execution_count": 103,
   "metadata": {},
   "outputs": [
    {
     "name": "stdout",
     "output_type": "stream",
     "text": [
      "https://www.bursamalaysia.com/market_information/announcements/company_announcement?page=1\n",
      "M3 TECHNOLOGIES (ASIA) BERHAD\n",
      "M3 TECHNOLOGIES (ASIA) BERHAD\n",
      "M3 TECHNOLOGIES (ASIA) BERHAD\n",
      "M3 TECHNOLOGIES (ASIA) BERHAD\n",
      "https://www.bursamalaysia.com/market_information/announcements/company_announcement?page=2\n",
      "https://www.bursamalaysia.com/market_information/announcements/company_announcement?page=3\n",
      "https://www.bursamalaysia.com/market_information/announcements/company_announcement?page=4\n",
      "https://www.bursamalaysia.com/market_information/announcements/company_announcement?page=5\n",
      "https://www.bursamalaysia.com/market_information/announcements/company_announcement?page=6\n",
      "https://www.bursamalaysia.com/market_information/announcements/company_announcement?page=7\n",
      "https://www.bursamalaysia.com/market_information/announcements/company_announcement?page=8\n",
      "https://www.bursamalaysia.com/market_information/announcements/company_announcement?page=9\n",
      "https://www.bursamalaysia.com/market_information/announcements/company_announcement?page=10\n",
      "https://www.bursamalaysia.com/market_information/announcements/company_announcement?page=11\n",
      "https://www.bursamalaysia.com/market_information/announcements/company_announcement?page=12\n",
      "https://www.bursamalaysia.com/market_information/announcements/company_announcement?page=13\n",
      "https://www.bursamalaysia.com/market_information/announcements/company_announcement?page=14\n",
      "https://www.bursamalaysia.com/market_information/announcements/company_announcement?page=15\n",
      "https://www.bursamalaysia.com/market_information/announcements/company_announcement?page=16\n",
      "https://www.bursamalaysia.com/market_information/announcements/company_announcement?page=17\n",
      "https://www.bursamalaysia.com/market_information/announcements/company_announcement?page=18\n",
      "https://www.bursamalaysia.com/market_information/announcements/company_announcement?page=19\n",
      "https://www.bursamalaysia.com/market_information/announcements/company_announcement?page=20\n",
      "https://www.bursamalaysia.com/market_information/announcements/company_announcement?page=21\n",
      "https://www.bursamalaysia.com/market_information/announcements/company_announcement?page=22\n",
      "https://www.bursamalaysia.com/market_information/announcements/company_announcement?page=23\n",
      "https://www.bursamalaysia.com/market_information/announcements/company_announcement?page=24\n",
      "https://www.bursamalaysia.com/market_information/announcements/company_announcement?page=25\n",
      "https://www.bursamalaysia.com/market_information/announcements/company_announcement?page=26\n",
      "https://www.bursamalaysia.com/market_information/announcements/company_announcement?page=27\n",
      "https://www.bursamalaysia.com/market_information/announcements/company_announcement?page=28\n",
      "https://www.bursamalaysia.com/market_information/announcements/company_announcement?page=29\n",
      "https://www.bursamalaysia.com/market_information/announcements/company_announcement?page=30\n",
      "https://www.bursamalaysia.com/market_information/announcements/company_announcement?page=31\n",
      "https://www.bursamalaysia.com/market_information/announcements/company_announcement?page=32\n",
      "GENTING MALAYSIA BERHAD\n"
     ]
    }
   ],
   "source": [
    "[Company,Title,Link]=get_information_stock(list_of_selected_stock)"
   ]
  },
  {
   "cell_type": "code",
   "execution_count": 109,
   "metadata": {},
   "outputs": [
    {
     "name": "stdout",
     "output_type": "stream",
     "text": [
      "M3 TECHNOLOGIES (ASIA) BERHAD : PROPOSED NEW SHAREHOLDERS MANDATE FOR RECURRENT RELATED PARTY TRANSACTIONS OF A REVENUE AND/OR TRADING NATURE ,\n",
      "Link : https://www.bursamalaysia.com/market_information/announcements/company_announcement/announcement_details?ann_id=3189140 \n",
      "\n",
      "M3 TECHNOLOGIES (ASIA) BERHAD : Annual Report & CG Report - 2021 ,\n",
      "Link : https://www.bursamalaysia.com/market_information/announcements/company_announcement/announcement_details?ann_id=3189139 \n",
      "\n",
      "M3 TECHNOLOGIES (ASIA) BERHAD : AUDIT REPORT - MODIFIED OPINION / MATERIAL UNCERTAINTY RELATED TO GOING CONCERN : QUALIFIED OPINION ,\n",
      "Link : https://www.bursamalaysia.com/market_information/announcements/company_announcement/announcement_details?ann_id=3189130 \n",
      "\n",
      "M3 TECHNOLOGIES (ASIA) BERHAD : General Meetings: Notice of Meeting ,\n",
      "Link : https://www.bursamalaysia.com/market_information/announcements/company_announcement/announcement_details?ann_id=3189127 \n",
      "\n",
      "GENTING MALAYSIA BERHAD : General Meetings: Notice of Meeting ,\n",
      "Link : https://www.bursamalaysia.com/market_information/announcements/company_announcement/announcement_details?ann_id=3188087 \n",
      "\n",
      "\n"
     ]
    }
   ],
   "source": [
    "msg = \"\"\n",
    "for ci,ti,li in zip(Company,Title,Link):\n",
    "    msg = msg + \"{} : {} ,\\nLink : {} \\n\\n\".format(ci,ti,li)\n",
    "print(msg)"
   ]
  }
 ],
 "metadata": {
  "kernelspec": {
   "display_name": "Python 3",
   "language": "python",
   "name": "python3"
  },
  "language_info": {
   "codemirror_mode": {
    "name": "ipython",
    "version": 3
   },
   "file_extension": ".py",
   "mimetype": "text/x-python",
   "name": "python",
   "nbconvert_exporter": "python",
   "pygments_lexer": "ipython3",
   "version": "3.8.11"
  }
 },
 "nbformat": 4,
 "nbformat_minor": 4
}
